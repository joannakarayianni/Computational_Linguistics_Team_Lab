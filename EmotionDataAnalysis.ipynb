{
 "cells": [
  {
   "cell_type": "code",
   "execution_count": 1,
   "id": "a471c95f-8366-4316-b8bc-7c804b8ee1a3",
   "metadata": {},
   "outputs": [],
   "source": [
    "import pandas as pd\n",
    "import matplotlib.pyplot as plt\n",
    "import numpy as np"
   ]
  },
  {
   "cell_type": "code",
   "execution_count": 2,
   "id": "7d946b40-b8ad-45b2-a1bd-4693679bb91f",
   "metadata": {},
   "outputs": [
    {
     "name": "stdout",
     "output_type": "stream",
     "text": [
      "EmotionDataAnalysis.ipynb \u001b[34mdatasets\u001b[m\u001b[m                  \u001b[34mvenv\u001b[m\u001b[m\n",
      "README.md                 emotion_word2vec.model\n",
      "\u001b[34mconfig\u001b[m\u001b[m                    \u001b[34mscripts\u001b[m\u001b[m\n"
     ]
    }
   ],
   "source": [
    "!ls"
   ]
  },
  {
   "cell_type": "code",
   "execution_count": 6,
   "id": "3e455dc9",
   "metadata": {},
   "outputs": [],
   "source": [
    "train_data = \"/Users/ioannakaragianni/Documents/GitHub/Computational_Linguistics_Team_Lab/datasets/isear-train.csv\""
   ]
  },
  {
   "cell_type": "code",
   "execution_count": 4,
   "id": "efef7ed1",
   "metadata": {},
   "outputs": [
    {
     "name": "stdout",
     "output_type": "stream",
     "text": [
      "Requirement already satisfied: openpyxl in /Library/Frameworks/Python.framework/Versions/3.11/lib/python3.11/site-packages (3.1.2)\n",
      "Requirement already satisfied: et-xmlfile in /Library/Frameworks/Python.framework/Versions/3.11/lib/python3.11/site-packages (from openpyxl) (1.1.0)\n",
      "\n",
      "\u001b[1m[\u001b[0m\u001b[34;49mnotice\u001b[0m\u001b[1;39;49m]\u001b[0m\u001b[39;49m A new release of pip available: \u001b[0m\u001b[31;49m22.3.1\u001b[0m\u001b[39;49m -> \u001b[0m\u001b[32;49m24.0\u001b[0m\n",
      "\u001b[1m[\u001b[0m\u001b[34;49mnotice\u001b[0m\u001b[1;39;49m]\u001b[0m\u001b[39;49m To update, run: \u001b[0m\u001b[32;49mpip3 install --upgrade pip\u001b[0m\n",
      "Note: you may need to restart the kernel to use updated packages.\n"
     ]
    }
   ],
   "source": [
    "pip install openpyxl"
   ]
  },
  {
   "cell_type": "code",
   "execution_count": 7,
   "id": "5b516f7b",
   "metadata": {},
   "outputs": [],
   "source": [
    "df_train = None\n",
    "\n",
    "try:\n",
    "    df_train = pd.read_csv(train_data, on_bad_lines=\"skip\")\n",
    "except Exception as e:\n",
    "    print(\"Error:\", e)"
   ]
  },
  {
   "cell_type": "markdown",
   "id": "29d32724",
   "metadata": {},
   "source": [
    "Unprocessed Data"
   ]
  },
  {
   "cell_type": "code",
   "execution_count": 8,
   "id": "5a507e29",
   "metadata": {},
   "outputs": [
    {
     "name": "stdout",
     "output_type": "stream",
     "text": [
      "{'fear', 'anger', 'sadness', 'shame', 'disgust', 'guilt', 'joy'}\n",
      "{'fear': 752, 'joy': 777, 'shame': 758, 'disgust': 757, 'guilt': 766, 'anger': 758, 'sadness': 760}\n",
      "columns\n",
      "Index(['joy', 'When I understood that I was admitted to the University.'], dtype='object')\n",
      "Counter({'joy': 777, 'guilt': 766, 'sadness': 760, 'shame': 758, 'anger': 758, 'disgust': 757, 'fear': 752, 'i was walking home from a place on southside and i live on northside and i was followed. i headed my most direct route.\"': 1, 'i could have died when i was caught cheating on a test in high school. that was my first and last time.\"': 1, 'last course': 1})\n"
     ]
    }
   ],
   "source": [
    "from collections import Counter\n",
    "\n",
    "# Access iloc on df_train\n",
    "if df_train is not None:\n",
    "    labels = df_train.iloc[:, 0]\n",
    "\n",
    "# Assuming unique_labels contains all the labels\n",
    "# Split the labels into words and count their frequency\n",
    "word_counts = Counter(word.strip().lower() for label in labels for word in label.split(','))\n",
    "#print(word_counts)\n",
    "\n",
    "# Define a threshold for the minimum frequency of a word to be considered an emotion\n",
    "threshold = 10 # Adjust as needed\n",
    "\n",
    "# Filter out words with frequency above the threshold as potential emotions\n",
    "valid_emotions = {word for word, count in word_counts.items() if count >= threshold}\n",
    "print(valid_emotions)\n",
    "\n",
    "# Filter out words with frequency above the threshold as potential emotions\n",
    "potential_emotions_counts = {word: count for word, count in word_counts.items() if count >= threshold}\n",
    "\n",
    "# Print the potential emotions\n",
    "print(potential_emotions_counts)\n",
    "\n",
    "# Filter out rows with invalid emotion labels\n",
    "valid_rows = df_train[df_train.iloc[:, 0].str.lower().str.strip().str.split(',').apply(lambda labels: any(label.strip().lower() in valid_emotions for label in labels))]\n",
    "\n",
    "# Create a new DataFrame with valid rows\n",
    "new_df_train = pd.DataFrame(valid_rows.values, columns=df_train.columns)\n",
    "print(\"columns\")\n",
    "print(df_train.columns)\n",
    "\n",
    "new_labels = new_df_train.iloc[:, 0]\n",
    "\n",
    "# Assuming unique_labels contains all the labels\n",
    "# Split the labels into words and count their frequency\n",
    "word_counts = Counter(word.strip().lower() for label in new_labels for word in label.split(','))\n",
    "\n",
    "print(word_counts)\n",
    "# Print the new DataFrame\n",
    "#print(new_df_train)"
   ]
  },
  {
   "cell_type": "markdown",
   "id": "0c85bf0c",
   "metadata": {},
   "source": [
    "Processed Data (deleted rows with no labeled emotions)"
   ]
  },
  {
   "cell_type": "code",
   "execution_count": 9,
   "id": "ccea48cb",
   "metadata": {},
   "outputs": [],
   "source": [
    "valid_emotions = [\"joy\", \"fear\", \"shame\", \"disgust\", \"guilt\", \"anger\", \"sadness\"]\n",
    "filtered_df_train = df_train[df_train.iloc[:, 0].str.split(\",\", expand=True)[0].isin(valid_emotions)]"
   ]
  },
  {
   "cell_type": "code",
   "execution_count": 10,
   "id": "6801c153",
   "metadata": {},
   "outputs": [
    {
     "name": "stdout",
     "output_type": "stream",
     "text": [
      "{'fear', 'anger', 'sadness', 'shame', 'disgust', 'guilt', 'joy'}\n",
      "{'fear': 751, 'joy': 776, 'shame': 757, 'disgust': 757, 'guilt': 766, 'anger': 758, 'sadness': 760}\n",
      "columns\n",
      "Index(['joy', 'When I understood that I was admitted to the University.'], dtype='object')\n",
      "Counter({'joy': 776, 'guilt': 766, 'sadness': 760, 'anger': 758, 'shame': 757, 'disgust': 757, 'fear': 751})\n"
     ]
    }
   ],
   "source": [
    "from collections import Counter\n",
    "\n",
    "# Access iloc on df_train\n",
    "if filtered_df_train is not None:\n",
    "    labels = filtered_df_train.iloc[:, 0]\n",
    "\n",
    "# Assuming unique_labels contains all the labels\n",
    "# Split the labels into words and count their frequency\n",
    "word_counts = Counter(word.strip().lower() for label in labels for word in label.split(','))\n",
    "#print(word_counts)\n",
    "\n",
    "# Define a threshold for the minimum frequency of a word to be considered an emotion\n",
    "threshold = 10 # Adjust as needed\n",
    "\n",
    "# Filter out words with frequency above the threshold as potential emotions\n",
    "valid_emotions = {word for word, count in word_counts.items() if count >= threshold}\n",
    "print(valid_emotions)\n",
    "\n",
    "# Filter out words with frequency above the threshold as potential emotions\n",
    "potential_emotions_counts = {word: count for word, count in word_counts.items() if count >= threshold}\n",
    "\n",
    "# Print the potential emotions\n",
    "print(potential_emotions_counts)\n",
    "\n",
    "# Filter out rows with invalid emotion labels\n",
    "valid_rows = filtered_df_train[filtered_df_train.iloc[:, 0].str.lower().str.strip().str.split(',').apply(lambda labels: any(label.strip().lower() in valid_emotions for label in labels))]\n",
    "\n",
    "# Create a new DataFrame with valid rows\n",
    "new_df_train = pd.DataFrame(valid_rows.values, columns=df_train.columns)\n",
    "print(\"columns\")\n",
    "print(df_train.columns)\n",
    "\n",
    "new_labels = new_df_train.iloc[:, 0]\n",
    "\n",
    "# Assuming unique_labels contains all the labels\n",
    "# Split the labels into words and count their frequency\n",
    "word_counts = Counter(word.strip().lower() for label in new_labels for word in label.split(','))\n",
    "\n",
    "print(word_counts)\n",
    "# Print the new DataFrame\n",
    "#print(new_df_train)"
   ]
  },
  {
   "cell_type": "markdown",
   "id": "205b8ede",
   "metadata": {},
   "source": [
    "Vizualization of Data"
   ]
  },
  {
   "cell_type": "code",
   "execution_count": 11,
   "id": "dd7e7d97",
   "metadata": {},
   "outputs": [
    {
     "data": {
      "image/png": "[encoded data removed]",
      "text/plain": [
       "<Figure size 1000x600 with 1 Axes>"
      ]
     },
     "metadata": {},
     "output_type": "display_data"
    }
   ],
   "source": [
    "# Plot the bar graph\n",
    "plt.figure(figsize=(10, 6))\n",
    "plt.bar(potential_emotions_counts.keys(), potential_emotions_counts.values(), color='skyblue')\n",
    "plt.xlabel('Emotion')\n",
    "plt.ylabel('Frequency')\n",
    "plt.title('Frequency of Valid Emotions')\n",
    "plt.xticks(rotation=45, ha='right')\n",
    "plt.tight_layout()\n",
    "plt.show()"
   ]
  },
  {
   "cell_type": "markdown",
   "id": "67659fd5",
   "metadata": {},
   "source": [
    "Evaluation | F1 Score\n",
    "\n",
    "- train set with itself\n",
    "- train set with dummy set"
   ]
  },
  {
   "cell_type": "markdown",
   "id": "f185cca7",
   "metadata": {},
   "source": [
    "Train set with itself"
   ]
  },
  {
   "cell_type": "code",
   "execution_count": 12,
   "id": "509e5d56",
   "metadata": {},
   "outputs": [
    {
     "name": "stdout",
     "output_type": "stream",
     "text": [
      "0          fear\n",
      "1           joy\n",
      "2          fear\n",
      "3         shame\n",
      "4       disgust\n",
      "         ...   \n",
      "5327    sadness\n",
      "5328      guilt\n",
      "5329       fear\n",
      "5330    disgust\n",
      "5331      shame\n",
      "Name: joy, Length: 5325, dtype: object\n",
      "Confusion Matrix:\n",
      "[[758   0   0   0   0   0   0]\n",
      " [  0 757   0   0   0   0   0]\n",
      " [  0   0 751   0   0   0   0]\n",
      " [  0   0   0 766   0   0   0]\n",
      " [  0   0   0   0 776   0   0]\n",
      " [  0   0   0   0   0 760   0]\n",
      " [  0   0   0   0   0   0 757]]\n"
     ]
    }
   ],
   "source": [
    "from sklearn.metrics import confusion_matrix\n",
    "\n",
    "# Ground truth labels (y_true)\n",
    "y_true = filtered_df_train.iloc[:, 0]\n",
    "print(y_true)\n",
    "\n",
    "# Predicted labels (assuming y_pred is the same as y_true)\n",
    "y_pred = y_true\n",
    "\n",
    "# Compute confusion matrix\n",
    "conf_matrix = confusion_matrix(y_true, y_pred)\n",
    "\n",
    "# Print confusion matrix\n",
    "print(\"Confusion Matrix:\")\n",
    "print(conf_matrix)\n"
   ]
  },
  {
   "cell_type": "code",
   "execution_count": 13,
   "id": "acef7aa4",
   "metadata": {},
   "outputs": [
    {
     "name": "stdout",
     "output_type": "stream",
     "text": [
      "Emotion: fear, Precision: 1.00, Recall: 1.00, F-score: 1.00\n",
      "Emotion: joy, Precision: 1.00, Recall: 1.00, F-score: 1.00\n",
      "Emotion: shame, Precision: 1.00, Recall: 1.00, F-score: 1.00\n",
      "Emotion: disgust, Precision: 1.00, Recall: 1.00, F-score: 1.00\n",
      "Emotion: guilt, Precision: 1.00, Recall: 1.00, F-score: 1.00\n",
      "Emotion: anger, Precision: 1.00, Recall: 1.00, F-score: 1.00\n",
      "Emotion: sadness, Precision: 1.00, Recall: 1.00, F-score: 1.00\n",
      "Overall F-score: 1.00\n"
     ]
    }
   ],
   "source": [
    "from sklearn.metrics import precision_recall_fscore_support\n",
    "\n",
    "# Compute precision, recall, and F-score\n",
    "precision, recall, fscore, _ = precision_recall_fscore_support(y_true, y_pred, average=None, labels=['fear', 'joy', 'shame', 'disgust', 'guilt', 'anger', 'sadness'])\n",
    "\n",
    "# Print precision, recall, and F-score for each emotion\n",
    "for emotion, prec, rec, f in zip(['fear', 'joy', 'shame', 'disgust', 'guilt', 'anger', 'sadness'], precision, recall, fscore):\n",
    "    print(f\"Emotion: {emotion}, Precision: {prec:.2f}, Recall: {rec:.2f}, F-score: {f:.2f}\")\n",
    "\n",
    "# Calculate overall F-score (average of F-scores across all classes)\n",
    "overall_fscore = fscore.mean()\n",
    "print(f\"Overall F-score: {overall_fscore:.2f}\")"
   ]
  },
  {
   "cell_type": "markdown",
   "id": "998ec41b",
   "metadata": {},
   "source": [
    "Train set with dummy set (assuming joy is the class, but the same F1-score 0.25 applies for all emotions)"
   ]
  },
  {
   "cell_type": "code",
   "execution_count": 20,
   "id": "824bc6b7",
   "metadata": {},
   "outputs": [
    {
     "name": "stdout",
     "output_type": "stream",
     "text": [
      "Emotion: joy, Precision: 0.14285714285714285, Recall: 1.0, F1-score: 0.25\n",
      "Emotion: fear, Precision: 0, Recall: 0.0, F1-score: 0\n",
      "Emotion: shame, Precision: 0, Recall: 0.0, F1-score: 0\n",
      "Emotion: disgust, Precision: 0, Recall: 0.0, F1-score: 0\n",
      "Emotion: guilt, Precision: 0, Recall: 0.0, F1-score: 0\n",
      "Emotion: anger, Precision: 0, Recall: 0.0, F1-score: 0\n",
      "Emotion: sadness, Precision: 0, Recall: 0.0, F1-score: 0\n"
     ]
    }
   ],
   "source": [
    "# Define emotion categories\n",
    "emotions = ['joy', 'fear', 'shame', 'disgust', 'guilt', 'anger', 'sadness']\n",
    "\n",
    "# Initialize counters\n",
    "true_positives = {emotion: 0 for emotion in emotions}\n",
    "false_positives = {emotion: 0 for emotion in emotions}\n",
    "false_negatives = {emotion: 0 for emotion in emotions}\n",
    "\n",
    "# Open dataset\n",
    "with open('/Users/ioannakaragianni/Desktop/Masters/2nd Semester/CL Lab/CL LAB PROJECT/isear-train.csv', 'r', encoding='utf-8') as file:\n",
    "    data = file.readlines()\n",
    "\n",
    "# Dummy implementation\n",
    "def predict_emotion(sentence):\n",
    "    # Hypothesis: always predict 'joy'\n",
    "    return 'joy'\n",
    "\n",
    "# Assuming each line of the dataset contains only the sentence\n",
    "for sentence in data:\n",
    "    # Assuming you have a function predict_emotion to predict the emotion based on the sentence\n",
    "    predicted_emotion = predict_emotion(sentence.strip())\n",
    "    \n",
    "    # Update counters on tp, fp and fn\n",
    "    for emotion in emotions:\n",
    "        if predicted_emotion == emotion:\n",
    "            true_positives[emotion] += 1\n",
    "        else:\n",
    "            false_positives[predicted_emotion] += 1\n",
    "            false_negatives[emotion] += 1\n",
    "\n",
    "# Precision, recall, and F1 score for each emotion\n",
    "for emotion in emotions:\n",
    "    tp = true_positives[emotion]\n",
    "    fp = false_positives[emotion]\n",
    "    fn = false_negatives[emotion]\n",
    "    \n",
    "    # precision\n",
    "    if tp + fp == 0:\n",
    "        precision = 0\n",
    "    else:\n",
    "        precision = tp / (tp + fp)\n",
    "    \n",
    "    # recall\n",
    "    if tp + fn == 0:\n",
    "        recall = 0\n",
    "    else:\n",
    "        recall = tp / (tp + fn)\n",
    "    \n",
    "    # F1-score\n",
    "    if precision + recall == 0:\n",
    "        f1_score = 0\n",
    "    else:\n",
    "        f1_score = 2 * (precision * recall) / (precision + recall)\n",
    "    \n",
    "    print(f\"Emotion: {emotion}, Precision: {precision}, Recall: {recall}, F1-score: {f1_score}\")"
   ]
  }
 ],
 "metadata": {
  "kernelspec": {
   "display_name": "Python 3 (ipykernel)",
   "language": "python",
   "name": "python3"
  },
  "language_info": {
   "codemirror_mode": {
    "name": "ipython",
    "version": 3
   },
   "file_extension": ".py",
   "mimetype": "text/x-python",
   "name": "python",
   "nbconvert_exporter": "python",
   "pygments_lexer": "ipython3",
   "version": "3.11.1"
  }
 },
 "nbformat": 4,
 "nbformat_minor": 5
}
